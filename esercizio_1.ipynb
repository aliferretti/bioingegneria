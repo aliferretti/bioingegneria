{
 "cells": [
  {
   "cell_type": "markdown",
   "metadata": {},
   "source": [
    "Scrivi un programma che definisce 3 variabili rispettivamente di tipo int, float e bool e ne restituisce la somma. Il programma deve mostrare il risultato a monitor secondo il formato:\n",
    "\n",
    "La somma di X, Y, e Z e' W"
   ]
  },
  {
   "cell_type": "code",
   "execution_count": null,
   "metadata": {},
   "outputs": [],
   "source": []
  },
  {
   "cell_type": "markdown",
   "metadata": {},
   "source": [
    "Scrivi un programma che definisce un variabile di tipo intero, n, e una di tipo stringa, s, e che mostra a monitor la stringa ripetuta n volte"
   ]
  },
  {
   "cell_type": "code",
   "execution_count": null,
   "metadata": {},
   "outputs": [],
   "source": []
  },
  {
   "cell_type": "markdown",
   "metadata": {},
   "source": [
    "Scrivi un programma che legge da tastiera l'anno di nascita e calcola l'eta' in giorni. Per semplicita' considera ogni anno come completo e costituito da 365 giorni. Il programma deve mostrare a monitor il risultato nella forma:\n",
    "\n",
    "La tua eta' in giorni e': xxxx"
   ]
  },
  {
   "cell_type": "code",
   "execution_count": null,
   "metadata": {},
   "outputs": [],
   "source": []
  },
  {
   "cell_type": "markdown",
   "metadata": {},
   "source": [
    "Il seguente blocco di codice genera due numeri random con distribuzione uniforme nell'intervallo 0-100. Eseguire il blocco di codice in modo da generare i due numeri casuali.\n",
    "\n",
    "Scrivere un programma che verifica se i due numeri sono uno multiplo dell'altro e mostra il risultato a monitor con un messaggio. (esempio: \"I DUE NUMERI SONO/NON SONO MULTIPLI UNO DELL'ALTRO\")"
   ]
  },
  {
   "cell_type": "code",
   "execution_count": null,
   "metadata": {},
   "outputs": [],
   "source": [
    "import numpy as np\n",
    "x, y = np.random.randint(0,101, size=2)\n",
    "print('x = ', x, 'y =', y)"
   ]
  },
  {
   "cell_type": "code",
   "execution_count": null,
   "metadata": {},
   "outputs": [],
   "source": []
  },
  {
   "cell_type": "markdown",
   "metadata": {},
   "source": [
    "Il seguente blocco di codice genera 3 punti causali in uno spazio bidimensionale con coordiante rispettivamente (x1, y1), (x2, y2) e (x3, y3). Scrivere un codice che determina se il punto (x3, y3) si trova sopra o sotto la retta che passa per il punti (x1, y1) e (x2, y2). Mostrare a monitor il risultato, e il coefficiente angolare e intercetta della retta.\n",
    "\n",
    "Esempio output: *4,1 e' superiore alla retta y = 2\\*x - 1*"
   ]
  },
  {
   "cell_type": "code",
   "execution_count": null,
   "metadata": {},
   "outputs": [],
   "source": [
    "import numpy as np\n",
    "x1, y1 = np.random.uniform(0,10, size=2)\n",
    "x2, y2 = np.random.uniform(0,10, size=2)\n",
    "x3, y3 = np.random.uniform(0,10, size=2)\n",
    "print('x1 = ', x1, 'y1 =', y1)\n",
    "print('x2 = ', x2, 'y2 =', y2)\n",
    "print('x3 = ', x3, 'y3 =', y3)"
   ]
  },
  {
   "cell_type": "code",
   "execution_count": null,
   "metadata": {},
   "outputs": [],
   "source": []
  },
  {
   "cell_type": "markdown",
   "metadata": {},
   "source": [
    "Definitre una stringa s di almeno 20 caratteri e mostrare a monitor:\n",
    "* il decimo carattere\n",
    "* i primi 8 caratteri\n",
    "* gli ultimi 4 caratteri"
   ]
  },
  {
   "cell_type": "code",
   "execution_count": null,
   "metadata": {},
   "outputs": [],
   "source": []
  },
  {
   "cell_type": "markdown",
   "metadata": {},
   "source": [
    "Scrivere un programma che legge una stringa da tastiera e mostra a monitor solo i caratteri di indice pari. Ad esempio se la stringa letta e' RAMARRO deve mostrare a monitor RMRO."
   ]
  },
  {
   "cell_type": "code",
   "execution_count": null,
   "metadata": {},
   "outputs": [],
   "source": []
  },
  {
   "cell_type": "markdown",
   "metadata": {},
   "source": [
    "Scrivere un programma che legge una stringa da tastiera e mostra a monitor il carattere di inizio e di fine della stringa. Ad esempio se la stringa letta e' RAMARRO deve mostrare a monitor R e O."
   ]
  },
  {
   "cell_type": "code",
   "execution_count": null,
   "metadata": {},
   "outputs": [],
   "source": []
  },
  {
   "cell_type": "markdown",
   "metadata": {},
   "source": [
    "Scrivere un programma che legge una stringa da tastiera e mostra a monitor i caratteri che la compongono a partire dall'ultimo, insieme all'indice retrogrado. Ad esempio se la stringa letta e' RAMARRO, deve mostrare:\n",
    "\n",
    "O -1\n",
    "\n",
    "R -2\n",
    "\n",
    "R -3\n",
    "\n",
    "A -4\n",
    "\n",
    "M -5\n",
    "\n",
    "A -6\n",
    "\n",
    "R -7"
   ]
  },
  {
   "cell_type": "code",
   "execution_count": null,
   "metadata": {},
   "outputs": [],
   "source": []
  },
  {
   "cell_type": "markdown",
   "metadata": {},
   "source": [
    "Scrivere un programma che legge una stringa da tastiera e determina se e' palindroma."
   ]
  },
  {
   "cell_type": "code",
   "execution_count": null,
   "metadata": {},
   "outputs": [],
   "source": []
  },
  {
   "cell_type": "markdown",
   "metadata": {},
   "source": [
    "Scrivere un programma che legge una stringa da tastiera e continua a leggere finche' non viene inserita una stringa contente un numero intero maggiore di zero. Ipotesi semplificativa: chi immette la stringa da tastiera inserisce sempre numeri interi."
   ]
  },
  {
   "cell_type": "code",
   "execution_count": null,
   "metadata": {},
   "outputs": [],
   "source": []
  },
  {
   "cell_type": "markdown",
   "metadata": {},
   "source": [
    "Ripetere l'esercizio precedente senza l'ipotesi semplificativa. Prima di convertire ad intero verificare che la stringa sia costituita solo da cifre numeriche con il metodo isdecimal."
   ]
  },
  {
   "cell_type": "code",
   "execution_count": null,
   "metadata": {},
   "outputs": [],
   "source": []
  },
  {
   "cell_type": "markdown",
   "metadata": {},
   "source": [
    "Data la stringa s definita nel codice sottostante, contare il numero di caratteri maiuscoli. Suggerimento: usare i metodi isalpha e upper."
   ]
  },
  {
   "cell_type": "code",
   "execution_count": null,
   "metadata": {},
   "outputs": [],
   "source": [
    "s = \"\"\"Il primo atleta a cui una squadra ritirò il numero di maglia fu Lou Gehrig, il grande battitore dei New York Yankees che dovette ritirarsi nel 1939 perché malato di sclerosi laterale amiotrofica, malattia degenerativa da allora nota anche come morbo di Gehrig. La sua maglia a righe con il numero 4 fu ritirata quello stesso anno, dopo la famosa partita d’addio allo Yankee Stadium in cui pronunciò uno dei discorsi più celebrati e commoventi della cultura sportiva americana (“Luckiest man on the face of the earth”).\"\"\""
   ]
  },
  {
   "cell_type": "code",
   "execution_count": null,
   "metadata": {},
   "outputs": [],
   "source": []
  },
  {
   "cell_type": "markdown",
   "metadata": {},
   "source": [
    "Date due stringhe trovare la posizione relativa che massimizza il numero di caratteri uguali.\n",
    "\n",
    "Esempio:\n",
    "\n",
    "s1 = 'AGSTVGYGWFRGYGRSS'\n",
    "\n",
    "s2 = 'RGYGWS'\n",
    "\n",
    "AGSTVGYGWFRGYGRSS\n",
    "\n",
    "RGYGWS            # 1 carattere uguale\n",
    "\n",
    "    RGYGWS        # 4 caratteri uguali\n",
    "    \n",
    "          RGYGWS  # 5 caratteri uguali --> soluzione !"
   ]
  },
  {
   "cell_type": "code",
   "execution_count": null,
   "metadata": {},
   "outputs": [],
   "source": []
  }
 ],
 "metadata": {
  "kernelspec": {
   "display_name": "Python 3 (ipykernel)",
   "language": "python",
   "name": "python3"
  },
  "language_info": {
   "codemirror_mode": {
    "name": "ipython",
    "version": 3
   },
   "file_extension": ".py",
   "mimetype": "text/x-python",
   "name": "python",
   "nbconvert_exporter": "python",
   "pygments_lexer": "ipython3",
   "version": "3.12.4"
  }
 },
 "nbformat": 4,
 "nbformat_minor": 4
}
