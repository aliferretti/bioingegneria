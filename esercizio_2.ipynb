{
 "cells": [
  {
   "cell_type": "markdown",
   "metadata": {},
   "source": [
    "Definire un lista L di elementi di tipo diverso. Scrivere un programma che calcola la somma dei soli elementi di tipo intero contenenti un numero positivo.\n",
    "\n",
    "Esempio: Se la lista e' \\[1, '1', 'a', 5, -4\\], il risultato deve essere 6"
   ]
  },
  {
   "cell_type": "code",
   "execution_count": null,
   "metadata": {},
   "outputs": [],
   "source": []
  },
  {
   "cell_type": "markdown",
   "metadata": {},
   "source": [
    "Definire una lista contenente solo numeri (int e float). Scrivere un programma che ne calcola la mediana. La mediana e' definita come il valore X per cui meta' dei componente di L sono inferiori a X, e meta' superiori. Ipotesi semplificatica: la lista ha un numero dispari di elementi."
   ]
  },
  {
   "cell_type": "code",
   "execution_count": null,
   "metadata": {},
   "outputs": [],
   "source": []
  },
  {
   "cell_type": "markdown",
   "metadata": {},
   "source": [
    "Scrivere un programma che crea una lista contenente i primi 20 termini della successione di fibonacci. I primi due elementi della successione di fibonacci sono 0 e 1, l'elemento di indice n e' definito come la somma dell'elemento di indice n-1 e n-2."
   ]
  },
  {
   "cell_type": "code",
   "execution_count": null,
   "metadata": {},
   "outputs": [],
   "source": []
  },
  {
   "cell_type": "markdown",
   "metadata": {},
   "source": [
    "Definire una lista contenente solo numeri di tipo float. Scrivere un programma che modifica tutti gli elementi di una lista di float nel rispettivo intero."
   ]
  },
  {
   "cell_type": "code",
   "execution_count": null,
   "metadata": {},
   "outputs": [],
   "source": []
  },
  {
   "cell_type": "markdown",
   "metadata": {},
   "source": [
    "Il dizionario luogo_nascita contiene l'informazione sul luogo di nascita di una serie di persone. Aggiungete al dizionario il vostro nome e luogo di nascita. Scrivere un programma che calcola il numero di persone nate a Bologna."
   ]
  },
  {
   "cell_type": "code",
   "execution_count": null,
   "metadata": {},
   "outputs": [],
   "source": [
    "luogo_nascita = {\n",
    "    'Paolo': 'Milano',\n",
    "    'Maria': 'Napoli',\n",
    "    'Roberto': 'Bologna',\n",
    "    'Mirco': 'Milano',\n",
    "    'Gennaro': 'Bologna',\n",
    "    'Giorgia': 'Bologna'\n",
    "}"
   ]
  },
  {
   "cell_type": "code",
   "execution_count": null,
   "metadata": {},
   "outputs": [],
   "source": []
  }
 ],
 "metadata": {
  "kernelspec": {
   "display_name": "Python 3 (ipykernel)",
   "language": "python",
   "name": "python3"
  },
  "language_info": {
   "codemirror_mode": {
    "name": "ipython",
    "version": 3
   },
   "file_extension": ".py",
   "mimetype": "text/x-python",
   "name": "python",
   "nbconvert_exporter": "python",
   "pygments_lexer": "ipython3",
   "version": "3.12.4"
  }
 },
 "nbformat": 4,
 "nbformat_minor": 4
}
